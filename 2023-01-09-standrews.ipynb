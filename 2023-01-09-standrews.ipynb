{
 "cells": [
  {
   "cell_type": "markdown",
   "id": "688ae42a-9c6b-4d76-9eb2-85cf2d81c480",
   "metadata": {
    "tags": []
   },
   "source": [
    "# Software Carpentry\n",
    "\n",
    "## St Andrews, $9^{th}$ January\n",
    "\n",
    "Python lesson, part 1\n",
    "\n",
    "    a = 42"
   ]
  },
  {
   "cell_type": "code",
   "execution_count": 1,
   "id": "5f23014f-22fb-42b9-88e7-89e8d39b0a71",
   "metadata": {},
   "outputs": [],
   "source": [
    "# create a variable\n",
    "a = 3"
   ]
  },
  {
   "cell_type": "code",
   "execution_count": 2,
   "id": "2e0c13f2-d735-4300-9460-390381f43cc1",
   "metadata": {},
   "outputs": [
    {
     "name": "stdout",
     "output_type": "stream",
     "text": [
      "3\n"
     ]
    }
   ],
   "source": [
    "print(a)"
   ]
  },
  {
   "cell_type": "code",
   "execution_count": 3,
   "id": "34b4ccd4-dc88-455a-bbbe-02fc8b6ac079",
   "metadata": {},
   "outputs": [],
   "source": [
    "age = 42"
   ]
  },
  {
   "cell_type": "code",
   "execution_count": 4,
   "id": "abe157b8-265d-4d47-8e23-9e71650777e7",
   "metadata": {},
   "outputs": [],
   "source": [
    "first_name = 'Ahmed'"
   ]
  },
  {
   "cell_type": "code",
   "execution_count": 5,
   "id": "e6252bcd-6436-4321-a44e-fa67ee447449",
   "metadata": {},
   "outputs": [
    {
     "data": {
      "text/plain": [
       "True"
      ]
     },
     "execution_count": 5,
     "metadata": {},
     "output_type": "execute_result"
    }
   ],
   "source": [
    "(a-1) == 2"
   ]
  },
  {
   "cell_type": "code",
   "execution_count": 6,
   "id": "554e32c4-e787-463a-8c89-2600b3ccf88d",
   "metadata": {},
   "outputs": [
    {
     "data": {
      "text/plain": [
       "True"
      ]
     },
     "execution_count": 6,
     "metadata": {},
     "output_type": "execute_result"
    }
   ],
   "source": [
    "1 < 2"
   ]
  },
  {
   "cell_type": "code",
   "execution_count": 7,
   "id": "eb30ceba-1bf5-4c32-9bd0-ab6ca4a04945",
   "metadata": {},
   "outputs": [
    {
     "data": {
      "text/plain": [
       "False"
      ]
     },
     "execution_count": 7,
     "metadata": {},
     "output_type": "execute_result"
    }
   ],
   "source": [
    "1 == 2"
   ]
  },
  {
   "cell_type": "code",
   "execution_count": 8,
   "id": "1b387613-a71c-4a1c-9bd8-157d9644ccf3",
   "metadata": {},
   "outputs": [
    {
     "data": {
      "text/plain": [
       "'Ahmed'"
      ]
     },
     "execution_count": 8,
     "metadata": {},
     "output_type": "execute_result"
    }
   ],
   "source": [
    "first_name"
   ]
  },
  {
   "cell_type": "code",
   "execution_count": 9,
   "id": "68d2a500-c8cc-426b-9bb9-577904fa00f3",
   "metadata": {},
   "outputs": [
    {
     "name": "stdout",
     "output_type": "stream",
     "text": [
      "Ahmed is 42 years old\n"
     ]
    }
   ],
   "source": [
    "print(first_name, 'is', age, 'years old')"
   ]
  },
  {
   "cell_type": "code",
   "execution_count": 10,
   "id": "6ca2ed70-b916-40a6-957a-a409a609f456",
   "metadata": {},
   "outputs": [],
   "source": [
    "age = age + 3"
   ]
  },
  {
   "cell_type": "code",
   "execution_count": 11,
   "id": "e222c127-9ab0-47d2-86b8-84fa0429a3bf",
   "metadata": {},
   "outputs": [
    {
     "name": "stdout",
     "output_type": "stream",
     "text": [
      "Age in three years: 45\n"
     ]
    }
   ],
   "source": [
    "print('Age in three years:', age) "
   ]
  },
  {
   "cell_type": "code",
   "execution_count": 12,
   "id": "3459f925-1d45-4537-b72b-fd1f2e2a2a0e",
   "metadata": {},
   "outputs": [],
   "source": [
    "her_str = 'She said \"I like Python\"'"
   ]
  },
  {
   "cell_type": "code",
   "execution_count": 13,
   "id": "c2d6f260-e9df-495b-ac87-9655eff817bd",
   "metadata": {},
   "outputs": [
    {
     "data": {
      "text/plain": [
       "'She said \"I like Python\"'"
      ]
     },
     "execution_count": 13,
     "metadata": {},
     "output_type": "execute_result"
    }
   ],
   "source": [
    "her_str"
   ]
  },
  {
   "cell_type": "code",
   "execution_count": 14,
   "id": "d2117790-3e3e-48e2-af92-6e2212e8dd10",
   "metadata": {},
   "outputs": [
    {
     "name": "stdout",
     "output_type": "stream",
     "text": [
      "<class 'str'>\n"
     ]
    }
   ],
   "source": [
    "print(str)"
   ]
  },
  {
   "cell_type": "markdown",
   "id": "1c80ff06-036c-4626-aec0-20c4c307ea18",
   "metadata": {},
   "source": [
    "## More on strings"
   ]
  },
  {
   "cell_type": "code",
   "execution_count": 15,
   "id": "8448210e-852b-4941-9b6d-8628cd61ae37",
   "metadata": {},
   "outputs": [],
   "source": [
    "atom_name = 'helium'"
   ]
  },
  {
   "cell_type": "code",
   "execution_count": 16,
   "id": "22710355-c8ee-4b4d-b51e-431795164f75",
   "metadata": {},
   "outputs": [
    {
     "data": {
      "text/plain": [
       "'h'"
      ]
     },
     "execution_count": 16,
     "metadata": {},
     "output_type": "execute_result"
    }
   ],
   "source": [
    "atom_name[0]"
   ]
  },
  {
   "cell_type": "code",
   "execution_count": 17,
   "id": "4bfe40e2-55fb-45c2-8773-08508d3bb2b3",
   "metadata": {},
   "outputs": [
    {
     "data": {
      "text/plain": [
       "'e'"
      ]
     },
     "execution_count": 17,
     "metadata": {},
     "output_type": "execute_result"
    }
   ],
   "source": [
    "atom_name[1]"
   ]
  },
  {
   "cell_type": "code",
   "execution_count": 18,
   "id": "374e9211-cd06-4bd3-a9d3-fbd90fce6345",
   "metadata": {},
   "outputs": [
    {
     "data": {
      "text/plain": [
       "6"
      ]
     },
     "execution_count": 18,
     "metadata": {},
     "output_type": "execute_result"
    }
   ],
   "source": [
    "len(atom_name)"
   ]
  },
  {
   "cell_type": "code",
   "execution_count": 19,
   "id": "7e3aa1cf-0a45-42ab-a9ea-11355edfaf22",
   "metadata": {},
   "outputs": [
    {
     "data": {
      "text/plain": [
       "'heli'"
      ]
     },
     "execution_count": 19,
     "metadata": {},
     "output_type": "execute_result"
    }
   ],
   "source": [
    "atom_name[0:4]"
   ]
  },
  {
   "cell_type": "code",
   "execution_count": 20,
   "id": "134c0c06-ea24-4497-96a7-4b3e30a2a2dc",
   "metadata": {},
   "outputs": [
    {
     "data": {
      "text/plain": [
       "'he'"
      ]
     },
     "execution_count": 20,
     "metadata": {},
     "output_type": "execute_result"
    }
   ],
   "source": [
    "atom_name[0:2]"
   ]
  },
  {
   "cell_type": "code",
   "execution_count": 21,
   "id": "b06bd964-00f0-4754-a5e5-5648e7598746",
   "metadata": {},
   "outputs": [
    {
     "data": {
      "text/plain": [
       "'ium'"
      ]
     },
     "execution_count": 21,
     "metadata": {},
     "output_type": "execute_result"
    }
   ],
   "source": [
    "atom_name[3:]"
   ]
  },
  {
   "cell_type": "code",
   "execution_count": 22,
   "id": "a0f17553-d369-4024-a1c2-c4040ba75354",
   "metadata": {},
   "outputs": [
    {
     "data": {
      "text/plain": [
       "False"
      ]
     },
     "execution_count": 22,
     "metadata": {},
     "output_type": "execute_result"
    }
   ],
   "source": [
    "atom_name == 'Helium'"
   ]
  },
  {
   "cell_type": "code",
   "execution_count": 23,
   "id": "b6b481f0-c2e2-43c1-a739-a1f6994017c3",
   "metadata": {},
   "outputs": [
    {
     "data": {
      "text/plain": [
       "int"
      ]
     },
     "execution_count": 23,
     "metadata": {},
     "output_type": "execute_result"
    }
   ],
   "source": [
    "type(age)"
   ]
  },
  {
   "cell_type": "code",
   "execution_count": 24,
   "id": "d8e52e1d-7350-4c18-b03f-6476907382b5",
   "metadata": {},
   "outputs": [
    {
     "data": {
      "text/plain": [
       "str"
      ]
     },
     "execution_count": 24,
     "metadata": {},
     "output_type": "execute_result"
    }
   ],
   "source": [
    "type(atom_name)"
   ]
  },
  {
   "cell_type": "code",
   "execution_count": 25,
   "id": "047d1ba2-42f4-4399-831c-bbac3bf3606b",
   "metadata": {},
   "outputs": [
    {
     "data": {
      "text/plain": [
       "48"
      ]
     },
     "execution_count": 25,
     "metadata": {},
     "output_type": "execute_result"
    }
   ],
   "source": [
    "age + 3"
   ]
  },
  {
   "cell_type": "code",
   "execution_count": 26,
   "id": "f6467f0f-0d3b-401f-888d-e4a719272f36",
   "metadata": {},
   "outputs": [
    {
     "data": {
      "text/plain": [
       "45"
      ]
     },
     "execution_count": 26,
     "metadata": {},
     "output_type": "execute_result"
    }
   ],
   "source": [
    "age"
   ]
  },
  {
   "cell_type": "code",
   "execution_count": 27,
   "id": "0fa220ad-c9bc-4422-a99f-b1016b337c53",
   "metadata": {},
   "outputs": [
    {
     "data": {
      "text/plain": [
       "57"
      ]
     },
     "execution_count": 27,
     "metadata": {},
     "output_type": "execute_result"
    }
   ],
   "source": [
    "int('54') + 3"
   ]
  },
  {
   "cell_type": "code",
   "execution_count": 28,
   "id": "700d76e5-d97f-41e7-a718-74dd8c4dbc0d",
   "metadata": {},
   "outputs": [
    {
     "data": {
      "text/plain": [
       "'543'"
      ]
     },
     "execution_count": 28,
     "metadata": {},
     "output_type": "execute_result"
    }
   ],
   "source": [
    "'54' + str(3)"
   ]
  },
  {
   "cell_type": "code",
   "execution_count": 29,
   "id": "6f6acbec-e670-4f63-a4b6-9bab1b1780fa",
   "metadata": {},
   "outputs": [
    {
     "data": {
      "text/plain": [
       "float"
      ]
     },
     "execution_count": 29,
     "metadata": {},
     "output_type": "execute_result"
    }
   ],
   "source": [
    "type(1+3.14)"
   ]
  },
  {
   "cell_type": "code",
   "execution_count": 30,
   "id": "1910915a-4d33-4145-8e6a-79ed3c4a8195",
   "metadata": {},
   "outputs": [],
   "source": [
    "agent = '007'"
   ]
  },
  {
   "cell_type": "code",
   "execution_count": 31,
   "id": "3f93099d-8192-46ad-b584-0c5aed17e0c9",
   "metadata": {},
   "outputs": [
    {
     "data": {
      "text/plain": [
       "'ununenium'"
      ]
     },
     "execution_count": 31,
     "metadata": {},
     "output_type": "execute_result"
    }
   ],
   "source": [
    "2*'un'+'enium'"
   ]
  },
  {
   "cell_type": "code",
   "execution_count": 32,
   "id": "f374fa2f-44bc-4c37-ae52-12a312eb2e0f",
   "metadata": {},
   "outputs": [
    {
     "data": {
      "text/plain": [
       "3"
      ]
     },
     "execution_count": 32,
     "metadata": {},
     "output_type": "execute_result"
    }
   ],
   "source": [
    "int(3.14)"
   ]
  },
  {
   "cell_type": "code",
   "execution_count": 33,
   "id": "f6eb2d02-c741-4761-a074-85dd37dba23a",
   "metadata": {},
   "outputs": [
    {
     "data": {
      "text/plain": [
       "5"
      ]
     },
     "execution_count": 33,
     "metadata": {},
     "output_type": "execute_result"
    }
   ],
   "source": [
    "max(1,2,3,4,5)"
   ]
  },
  {
   "cell_type": "code",
   "execution_count": 34,
   "id": "c1f38408-b94e-4f9a-aa65-197ed0e6671a",
   "metadata": {},
   "outputs": [
    {
     "data": {
      "text/plain": [
       "'b'"
      ]
     },
     "execution_count": 34,
     "metadata": {},
     "output_type": "execute_result"
    }
   ],
   "source": [
    "max('A','B','b','Bc')"
   ]
  },
  {
   "cell_type": "code",
   "execution_count": 35,
   "id": "48a542ba-14ed-4ea4-9e7b-e14bda28a394",
   "metadata": {},
   "outputs": [
    {
     "data": {
      "text/plain": [
       "3"
      ]
     },
     "execution_count": 35,
     "metadata": {},
     "output_type": "execute_result"
    }
   ],
   "source": [
    "round(3.14159265329)"
   ]
  },
  {
   "cell_type": "code",
   "execution_count": 36,
   "id": "9aa143b0-6583-4868-aca3-12beea7f8b1e",
   "metadata": {},
   "outputs": [
    {
     "data": {
      "text/plain": [
       "3.14"
      ]
     },
     "execution_count": 36,
     "metadata": {},
     "output_type": "execute_result"
    }
   ],
   "source": [
    "round(3.14159265329, 2)"
   ]
  },
  {
   "cell_type": "code",
   "execution_count": 37,
   "id": "05ae470d-0f19-4c21-ba24-b7b2d9eec3fa",
   "metadata": {},
   "outputs": [
    {
     "name": "stdout",
     "output_type": "stream",
     "text": [
      "example\n",
      "The result is None\n"
     ]
    }
   ],
   "source": [
    "result = print('example')\n",
    "print('The result is', result)"
   ]
  },
  {
   "cell_type": "code",
   "execution_count": 38,
   "id": "87c70a0b-96da-4433-8ba0-d2d3fd2d4bcb",
   "metadata": {},
   "outputs": [],
   "source": [
    "None"
   ]
  },
  {
   "cell_type": "code",
   "execution_count": 39,
   "id": "fa5a25eb-3f8a-4202-a4f5-cbc5e162d4aa",
   "metadata": {},
   "outputs": [
    {
     "name": "stdout",
     "output_type": "stream",
     "text": [
      "Help on built-in function max in module builtins:\n",
      "\n",
      "max(...)\n",
      "    max(iterable, *[, default=obj, key=func]) -> value\n",
      "    max(arg1, arg2, *args, *[, key=func]) -> value\n",
      "    \n",
      "    With a single iterable argument, return its biggest item. The\n",
      "    default keyword-only argument specifies an object to return if\n",
      "    the provided iterable is empty.\n",
      "    With two or more arguments, return the largest argument.\n",
      "\n"
     ]
    }
   ],
   "source": [
    "help(max)"
   ]
  },
  {
   "cell_type": "code",
   "execution_count": 40,
   "id": "89e7fe37-8195-4a22-9977-d13fab28d0f8",
   "metadata": {},
   "outputs": [
    {
     "name": "stdout",
     "output_type": "stream",
     "text": [
      "Help on built-in function round in module builtins:\n",
      "\n",
      "round(number, ndigits=None)\n",
      "    Round a number to a given precision in decimal digits.\n",
      "    \n",
      "    The return value is an integer if ndigits is omitted or None.  Otherwise\n",
      "    the return value has the same type as the number.  ndigits may be negative.\n",
      "\n"
     ]
    }
   ],
   "source": [
    "help(round)"
   ]
  },
  {
   "cell_type": "code",
   "execution_count": 41,
   "id": "736f065d-a9ab-4ada-8635-438f51c768ff",
   "metadata": {},
   "outputs": [
    {
     "data": {
      "text/plain": [
       "\u001b[0;31mSignature:\u001b[0m \u001b[0mround\u001b[0m\u001b[0;34m(\u001b[0m\u001b[0mnumber\u001b[0m\u001b[0;34m,\u001b[0m \u001b[0mndigits\u001b[0m\u001b[0;34m=\u001b[0m\u001b[0;32mNone\u001b[0m\u001b[0;34m)\u001b[0m\u001b[0;34m\u001b[0m\u001b[0;34m\u001b[0m\u001b[0m\n",
       "\u001b[0;31mDocstring:\u001b[0m\n",
       "Round a number to a given precision in decimal digits.\n",
       "\n",
       "The return value is an integer if ndigits is omitted or None.  Otherwise\n",
       "the return value has the same type as the number.  ndigits may be negative.\n",
       "\u001b[0;31mType:\u001b[0m      builtin_function_or_method\n"
      ]
     },
     "metadata": {},
     "output_type": "display_data"
    }
   ],
   "source": [
    "round?"
   ]
  },
  {
   "cell_type": "code",
   "execution_count": 42,
   "id": "32ca6560-d090-4f25-829e-9ce00adbc946",
   "metadata": {},
   "outputs": [],
   "source": [
    "name = 'Feng'"
   ]
  },
  {
   "cell_type": "code",
   "execution_count": 43,
   "id": "d32b6dea-35f6-416b-9e09-9bbe568f6eef",
   "metadata": {},
   "outputs": [
    {
     "data": {
      "text/plain": [
       "False"
      ]
     },
     "execution_count": 43,
     "metadata": {},
     "output_type": "execute_result"
    }
   ],
   "source": [
    "age == 52"
   ]
  },
  {
   "cell_type": "code",
   "execution_count": 44,
   "id": "3979fe6a-262e-472a-aa7f-562357384098",
   "metadata": {},
   "outputs": [
    {
     "name": "stdout",
     "output_type": "stream",
     "text": [
      "Hello world\n"
     ]
    }
   ],
   "source": [
    "print('Hello world')"
   ]
  },
  {
   "cell_type": "code",
   "execution_count": 45,
   "id": "8d674c15-beec-49de-a1c7-2e080d6b3e8f",
   "metadata": {},
   "outputs": [],
   "source": [
    "age = 54"
   ]
  },
  {
   "cell_type": "code",
   "execution_count": 46,
   "id": "88489ca2-67df-48a6-9d8f-65a8e7c4fcab",
   "metadata": {},
   "outputs": [],
   "source": [
    "time_till_retirement = 68-age"
   ]
  },
  {
   "cell_type": "code",
   "execution_count": 47,
   "id": "95ed613c-fc6e-4db4-a09a-1453ec0b9da9",
   "metadata": {},
   "outputs": [
    {
     "data": {
      "text/plain": [
       "14"
      ]
     },
     "execution_count": 47,
     "metadata": {},
     "output_type": "execute_result"
    }
   ],
   "source": [
    "time_till_retirement"
   ]
  },
  {
   "cell_type": "code",
   "execution_count": 48,
   "id": "9c3b2563-cf5f-40a1-b784-4b7a9fa46387",
   "metadata": {},
   "outputs": [],
   "source": [
    "import math"
   ]
  },
  {
   "cell_type": "code",
   "execution_count": 49,
   "id": "9c8d57c4-39dc-498b-98c0-9bd7cb1865f5",
   "metadata": {},
   "outputs": [
    {
     "data": {
      "text/plain": [
       "-1.0"
      ]
     },
     "execution_count": 49,
     "metadata": {},
     "output_type": "execute_result"
    }
   ],
   "source": [
    "math.cos(math.pi)"
   ]
  },
  {
   "cell_type": "code",
   "execution_count": 50,
   "id": "db451e53-cea2-4a45-99b5-ad351ad4f492",
   "metadata": {},
   "outputs": [],
   "source": [
    "from math import cos, pi"
   ]
  },
  {
   "cell_type": "code",
   "execution_count": 51,
   "id": "6fb7a011-1e76-4102-a6dd-3b3d51ae82d5",
   "metadata": {},
   "outputs": [
    {
     "data": {
      "text/plain": [
       "-1.0"
      ]
     },
     "execution_count": 51,
     "metadata": {},
     "output_type": "execute_result"
    }
   ],
   "source": [
    "cos(pi)"
   ]
  },
  {
   "cell_type": "code",
   "execution_count": 52,
   "id": "f898fa4c-cac4-42da-b954-57cb5ad69e10",
   "metadata": {},
   "outputs": [],
   "source": [
    "import math as m"
   ]
  },
  {
   "cell_type": "code",
   "execution_count": 53,
   "id": "a7054991-30f2-44e6-9d00-0b5b1ab7d17e",
   "metadata": {},
   "outputs": [
    {
     "data": {
      "text/plain": [
       "-1.0"
      ]
     },
     "execution_count": 53,
     "metadata": {},
     "output_type": "execute_result"
    }
   ],
   "source": [
    "m.cos(m.pi)"
   ]
  },
  {
   "cell_type": "code",
   "execution_count": 54,
   "id": "29b8d21f-aa6f-4b56-830b-fbd544f40967",
   "metadata": {},
   "outputs": [],
   "source": [
    "import math as maths"
   ]
  },
  {
   "cell_type": "code",
   "execution_count": 55,
   "id": "251b9c75-4921-42df-96e8-c65b4607e640",
   "metadata": {},
   "outputs": [
    {
     "data": {
      "text/plain": [
       "-1.0"
      ]
     },
     "execution_count": 55,
     "metadata": {},
     "output_type": "execute_result"
    }
   ],
   "source": [
    "maths.cos(maths.pi)"
   ]
  },
  {
   "cell_type": "code",
   "execution_count": 56,
   "id": "72f92207-5534-462c-b3cf-5ffc8bf2089e",
   "metadata": {},
   "outputs": [],
   "source": [
    "import matplotlib as mpl"
   ]
  },
  {
   "cell_type": "code",
   "execution_count": 57,
   "id": "af414a68-afbf-416b-ae2e-429b99f13eba",
   "metadata": {},
   "outputs": [],
   "source": [
    "import pandas as pd"
   ]
  },
  {
   "cell_type": "code",
   "execution_count": 58,
   "id": "a52f5229-eea2-4c0b-b77b-e168b978c857",
   "metadata": {},
   "outputs": [],
   "source": [
    "data = pd.read_csv('Desktop/data/gapminder_gdp_oceania.csv')"
   ]
  },
  {
   "cell_type": "code",
   "execution_count": 59,
   "id": "32bf7960-20a0-4278-908f-8d9037b996d8",
   "metadata": {},
   "outputs": [
    {
     "name": "stdout",
     "output_type": "stream",
     "text": [
      "       country  gdpPercap_1952  gdpPercap_1957  gdpPercap_1962  \\\n",
      "0    Australia     10039.59564     10949.64959     12217.22686   \n",
      "1  New Zealand     10556.57566     12247.39532     13175.67800   \n",
      "\n",
      "   gdpPercap_1967  gdpPercap_1972  gdpPercap_1977  gdpPercap_1982  \\\n",
      "0     14526.12465     16788.62948     18334.19751     19477.00928   \n",
      "1     14463.91893     16046.03728     16233.71770     17632.41040   \n",
      "\n",
      "   gdpPercap_1987  gdpPercap_1992  gdpPercap_1997  gdpPercap_2002  \\\n",
      "0     21888.88903     23424.76683     26997.93657     30687.75473   \n",
      "1     19007.19129     18363.32494     21050.41377     23189.80135   \n",
      "\n",
      "   gdpPercap_2007  \n",
      "0     34435.36744  \n",
      "1     25185.00911  \n"
     ]
    }
   ],
   "source": [
    "print(data)"
   ]
  },
  {
   "cell_type": "code",
   "execution_count": 60,
   "id": "ac0c64d8-eb80-4e4f-9424-95823359c3dc",
   "metadata": {},
   "outputs": [
    {
     "data": {
      "text/html": [
       "<div>\n",
       "<style scoped>\n",
       "    .dataframe tbody tr th:only-of-type {\n",
       "        vertical-align: middle;\n",
       "    }\n",
       "\n",
       "    .dataframe tbody tr th {\n",
       "        vertical-align: top;\n",
       "    }\n",
       "\n",
       "    .dataframe thead th {\n",
       "        text-align: right;\n",
       "    }\n",
       "</style>\n",
       "<table border=\"1\" class=\"dataframe\">\n",
       "  <thead>\n",
       "    <tr style=\"text-align: right;\">\n",
       "      <th></th>\n",
       "      <th>country</th>\n",
       "      <th>gdpPercap_1952</th>\n",
       "      <th>gdpPercap_1957</th>\n",
       "      <th>gdpPercap_1962</th>\n",
       "      <th>gdpPercap_1967</th>\n",
       "      <th>gdpPercap_1972</th>\n",
       "      <th>gdpPercap_1977</th>\n",
       "      <th>gdpPercap_1982</th>\n",
       "      <th>gdpPercap_1987</th>\n",
       "      <th>gdpPercap_1992</th>\n",
       "      <th>gdpPercap_1997</th>\n",
       "      <th>gdpPercap_2002</th>\n",
       "      <th>gdpPercap_2007</th>\n",
       "    </tr>\n",
       "  </thead>\n",
       "  <tbody>\n",
       "    <tr>\n",
       "      <th>0</th>\n",
       "      <td>Australia</td>\n",
       "      <td>10039.59564</td>\n",
       "      <td>10949.64959</td>\n",
       "      <td>12217.22686</td>\n",
       "      <td>14526.12465</td>\n",
       "      <td>16788.62948</td>\n",
       "      <td>18334.19751</td>\n",
       "      <td>19477.00928</td>\n",
       "      <td>21888.88903</td>\n",
       "      <td>23424.76683</td>\n",
       "      <td>26997.93657</td>\n",
       "      <td>30687.75473</td>\n",
       "      <td>34435.36744</td>\n",
       "    </tr>\n",
       "    <tr>\n",
       "      <th>1</th>\n",
       "      <td>New Zealand</td>\n",
       "      <td>10556.57566</td>\n",
       "      <td>12247.39532</td>\n",
       "      <td>13175.67800</td>\n",
       "      <td>14463.91893</td>\n",
       "      <td>16046.03728</td>\n",
       "      <td>16233.71770</td>\n",
       "      <td>17632.41040</td>\n",
       "      <td>19007.19129</td>\n",
       "      <td>18363.32494</td>\n",
       "      <td>21050.41377</td>\n",
       "      <td>23189.80135</td>\n",
       "      <td>25185.00911</td>\n",
       "    </tr>\n",
       "  </tbody>\n",
       "</table>\n",
       "</div>"
      ],
      "text/plain": [
       "       country  gdpPercap_1952  gdpPercap_1957  gdpPercap_1962  \\\n",
       "0    Australia     10039.59564     10949.64959     12217.22686   \n",
       "1  New Zealand     10556.57566     12247.39532     13175.67800   \n",
       "\n",
       "   gdpPercap_1967  gdpPercap_1972  gdpPercap_1977  gdpPercap_1982  \\\n",
       "0     14526.12465     16788.62948     18334.19751     19477.00928   \n",
       "1     14463.91893     16046.03728     16233.71770     17632.41040   \n",
       "\n",
       "   gdpPercap_1987  gdpPercap_1992  gdpPercap_1997  gdpPercap_2002  \\\n",
       "0     21888.88903     23424.76683     26997.93657     30687.75473   \n",
       "1     19007.19129     18363.32494     21050.41377     23189.80135   \n",
       "\n",
       "   gdpPercap_2007  \n",
       "0     34435.36744  \n",
       "1     25185.00911  "
      ]
     },
     "execution_count": 60,
     "metadata": {},
     "output_type": "execute_result"
    }
   ],
   "source": [
    "data"
   ]
  },
  {
   "cell_type": "code",
   "execution_count": 61,
   "id": "7c63d559-a5e7-4a2c-a224-88a853f6c1b0",
   "metadata": {},
   "outputs": [],
   "source": [
    "data_africa = pd.read_csv('/Users/alexk/Desktop/data/gapminder_gdp_africa.csv')"
   ]
  },
  {
   "cell_type": "code",
   "execution_count": 62,
   "id": "62e2ff49-9d23-488c-a079-6c01aee7da46",
   "metadata": {},
   "outputs": [
    {
     "data": {
      "text/html": [
       "<div>\n",
       "<style scoped>\n",
       "    .dataframe tbody tr th:only-of-type {\n",
       "        vertical-align: middle;\n",
       "    }\n",
       "\n",
       "    .dataframe tbody tr th {\n",
       "        vertical-align: top;\n",
       "    }\n",
       "\n",
       "    .dataframe thead th {\n",
       "        text-align: right;\n",
       "    }\n",
       "</style>\n",
       "<table border=\"1\" class=\"dataframe\">\n",
       "  <thead>\n",
       "    <tr style=\"text-align: right;\">\n",
       "      <th></th>\n",
       "      <th>country</th>\n",
       "      <th>gdpPercap_1952</th>\n",
       "      <th>gdpPercap_1957</th>\n",
       "      <th>gdpPercap_1962</th>\n",
       "      <th>gdpPercap_1967</th>\n",
       "      <th>gdpPercap_1972</th>\n",
       "      <th>gdpPercap_1977</th>\n",
       "      <th>gdpPercap_1982</th>\n",
       "      <th>gdpPercap_1987</th>\n",
       "      <th>gdpPercap_1992</th>\n",
       "      <th>gdpPercap_1997</th>\n",
       "      <th>gdpPercap_2002</th>\n",
       "      <th>gdpPercap_2007</th>\n",
       "    </tr>\n",
       "  </thead>\n",
       "  <tbody>\n",
       "    <tr>\n",
       "      <th>0</th>\n",
       "      <td>Algeria</td>\n",
       "      <td>2449.008185</td>\n",
       "      <td>3013.976023</td>\n",
       "      <td>2550.816880</td>\n",
       "      <td>3246.991771</td>\n",
       "      <td>4182.663766</td>\n",
       "      <td>4910.416756</td>\n",
       "      <td>5745.160213</td>\n",
       "      <td>5681.358539</td>\n",
       "      <td>5023.216647</td>\n",
       "      <td>4797.295051</td>\n",
       "      <td>5288.040382</td>\n",
       "      <td>6223.367465</td>\n",
       "    </tr>\n",
       "    <tr>\n",
       "      <th>1</th>\n",
       "      <td>Angola</td>\n",
       "      <td>3520.610273</td>\n",
       "      <td>3827.940465</td>\n",
       "      <td>4269.276742</td>\n",
       "      <td>5522.776375</td>\n",
       "      <td>5473.288005</td>\n",
       "      <td>3008.647355</td>\n",
       "      <td>2756.953672</td>\n",
       "      <td>2430.208311</td>\n",
       "      <td>2627.845685</td>\n",
       "      <td>2277.140884</td>\n",
       "      <td>2773.287312</td>\n",
       "      <td>4797.231267</td>\n",
       "    </tr>\n",
       "    <tr>\n",
       "      <th>2</th>\n",
       "      <td>Benin</td>\n",
       "      <td>1062.752200</td>\n",
       "      <td>959.601080</td>\n",
       "      <td>949.499064</td>\n",
       "      <td>1035.831411</td>\n",
       "      <td>1085.796879</td>\n",
       "      <td>1029.161251</td>\n",
       "      <td>1277.897616</td>\n",
       "      <td>1225.856010</td>\n",
       "      <td>1191.207681</td>\n",
       "      <td>1232.975292</td>\n",
       "      <td>1372.877931</td>\n",
       "      <td>1441.284873</td>\n",
       "    </tr>\n",
       "    <tr>\n",
       "      <th>3</th>\n",
       "      <td>Botswana</td>\n",
       "      <td>851.241141</td>\n",
       "      <td>918.232535</td>\n",
       "      <td>983.653976</td>\n",
       "      <td>1214.709294</td>\n",
       "      <td>2263.611114</td>\n",
       "      <td>3214.857818</td>\n",
       "      <td>4551.142150</td>\n",
       "      <td>6205.883850</td>\n",
       "      <td>7954.111645</td>\n",
       "      <td>8647.142313</td>\n",
       "      <td>11003.605080</td>\n",
       "      <td>12569.851770</td>\n",
       "    </tr>\n",
       "    <tr>\n",
       "      <th>4</th>\n",
       "      <td>Burkina Faso</td>\n",
       "      <td>543.255241</td>\n",
       "      <td>617.183465</td>\n",
       "      <td>722.512021</td>\n",
       "      <td>794.826560</td>\n",
       "      <td>854.735976</td>\n",
       "      <td>743.387037</td>\n",
       "      <td>807.198586</td>\n",
       "      <td>912.063142</td>\n",
       "      <td>931.752773</td>\n",
       "      <td>946.294962</td>\n",
       "      <td>1037.645221</td>\n",
       "      <td>1217.032994</td>\n",
       "    </tr>\n",
       "    <tr>\n",
       "      <th>5</th>\n",
       "      <td>Burundi</td>\n",
       "      <td>339.296459</td>\n",
       "      <td>379.564628</td>\n",
       "      <td>355.203227</td>\n",
       "      <td>412.977514</td>\n",
       "      <td>464.099504</td>\n",
       "      <td>556.103265</td>\n",
       "      <td>559.603231</td>\n",
       "      <td>621.818819</td>\n",
       "      <td>631.699878</td>\n",
       "      <td>463.115148</td>\n",
       "      <td>446.403513</td>\n",
       "      <td>430.070692</td>\n",
       "    </tr>\n",
       "    <tr>\n",
       "      <th>6</th>\n",
       "      <td>Cameroon</td>\n",
       "      <td>1172.667655</td>\n",
       "      <td>1313.048099</td>\n",
       "      <td>1399.607441</td>\n",
       "      <td>1508.453148</td>\n",
       "      <td>1684.146528</td>\n",
       "      <td>1783.432873</td>\n",
       "      <td>2367.983282</td>\n",
       "      <td>2602.664206</td>\n",
       "      <td>1793.163278</td>\n",
       "      <td>1694.337469</td>\n",
       "      <td>1934.011449</td>\n",
       "      <td>2042.095240</td>\n",
       "    </tr>\n",
       "    <tr>\n",
       "      <th>7</th>\n",
       "      <td>Central African Republic</td>\n",
       "      <td>1071.310713</td>\n",
       "      <td>1190.844328</td>\n",
       "      <td>1193.068753</td>\n",
       "      <td>1136.056615</td>\n",
       "      <td>1070.013275</td>\n",
       "      <td>1109.374338</td>\n",
       "      <td>956.752991</td>\n",
       "      <td>844.876350</td>\n",
       "      <td>747.905525</td>\n",
       "      <td>740.506332</td>\n",
       "      <td>738.690607</td>\n",
       "      <td>706.016537</td>\n",
       "    </tr>\n",
       "    <tr>\n",
       "      <th>8</th>\n",
       "      <td>Chad</td>\n",
       "      <td>1178.665927</td>\n",
       "      <td>1308.495577</td>\n",
       "      <td>1389.817618</td>\n",
       "      <td>1196.810565</td>\n",
       "      <td>1104.103987</td>\n",
       "      <td>1133.984950</td>\n",
       "      <td>797.908101</td>\n",
       "      <td>952.386129</td>\n",
       "      <td>1058.064300</td>\n",
       "      <td>1004.961353</td>\n",
       "      <td>1156.181860</td>\n",
       "      <td>1704.063724</td>\n",
       "    </tr>\n",
       "    <tr>\n",
       "      <th>9</th>\n",
       "      <td>Comoros</td>\n",
       "      <td>1102.990936</td>\n",
       "      <td>1211.148548</td>\n",
       "      <td>1406.648278</td>\n",
       "      <td>1876.029643</td>\n",
       "      <td>1937.577675</td>\n",
       "      <td>1172.603047</td>\n",
       "      <td>1267.100083</td>\n",
       "      <td>1315.980812</td>\n",
       "      <td>1246.907370</td>\n",
       "      <td>1173.618235</td>\n",
       "      <td>1075.811558</td>\n",
       "      <td>986.147879</td>\n",
       "    </tr>\n",
       "    <tr>\n",
       "      <th>10</th>\n",
       "      <td>Congo Dem. Rep.</td>\n",
       "      <td>780.542326</td>\n",
       "      <td>905.860230</td>\n",
       "      <td>896.314634</td>\n",
       "      <td>861.593242</td>\n",
       "      <td>904.896068</td>\n",
       "      <td>795.757282</td>\n",
       "      <td>673.747818</td>\n",
       "      <td>672.774812</td>\n",
       "      <td>457.719181</td>\n",
       "      <td>312.188423</td>\n",
       "      <td>241.165876</td>\n",
       "      <td>277.551859</td>\n",
       "    </tr>\n",
       "    <tr>\n",
       "      <th>11</th>\n",
       "      <td>Congo Rep.</td>\n",
       "      <td>2125.621418</td>\n",
       "      <td>2315.056572</td>\n",
       "      <td>2464.783157</td>\n",
       "      <td>2677.939642</td>\n",
       "      <td>3213.152683</td>\n",
       "      <td>3259.178978</td>\n",
       "      <td>4879.507522</td>\n",
       "      <td>4201.194937</td>\n",
       "      <td>4016.239529</td>\n",
       "      <td>3484.164376</td>\n",
       "      <td>3484.061970</td>\n",
       "      <td>3632.557798</td>\n",
       "    </tr>\n",
       "    <tr>\n",
       "      <th>12</th>\n",
       "      <td>Cote d'Ivoire</td>\n",
       "      <td>1388.594732</td>\n",
       "      <td>1500.895925</td>\n",
       "      <td>1728.869428</td>\n",
       "      <td>2052.050473</td>\n",
       "      <td>2378.201111</td>\n",
       "      <td>2517.736547</td>\n",
       "      <td>2602.710169</td>\n",
       "      <td>2156.956069</td>\n",
       "      <td>1648.073791</td>\n",
       "      <td>1786.265407</td>\n",
       "      <td>1648.800823</td>\n",
       "      <td>1544.750112</td>\n",
       "    </tr>\n",
       "    <tr>\n",
       "      <th>13</th>\n",
       "      <td>Djibouti</td>\n",
       "      <td>2669.529475</td>\n",
       "      <td>2864.969076</td>\n",
       "      <td>3020.989263</td>\n",
       "      <td>3020.050513</td>\n",
       "      <td>3694.212352</td>\n",
       "      <td>3081.761022</td>\n",
       "      <td>2879.468067</td>\n",
       "      <td>2880.102568</td>\n",
       "      <td>2377.156192</td>\n",
       "      <td>1895.016984</td>\n",
       "      <td>1908.260867</td>\n",
       "      <td>2082.481567</td>\n",
       "    </tr>\n",
       "    <tr>\n",
       "      <th>14</th>\n",
       "      <td>Egypt</td>\n",
       "      <td>1418.822445</td>\n",
       "      <td>1458.915272</td>\n",
       "      <td>1693.335853</td>\n",
       "      <td>1814.880728</td>\n",
       "      <td>2024.008147</td>\n",
       "      <td>2785.493582</td>\n",
       "      <td>3503.729636</td>\n",
       "      <td>3885.460710</td>\n",
       "      <td>3794.755195</td>\n",
       "      <td>4173.181797</td>\n",
       "      <td>4754.604414</td>\n",
       "      <td>5581.180998</td>\n",
       "    </tr>\n",
       "    <tr>\n",
       "      <th>15</th>\n",
       "      <td>Equatorial Guinea</td>\n",
       "      <td>375.643123</td>\n",
       "      <td>426.096408</td>\n",
       "      <td>582.841971</td>\n",
       "      <td>915.596003</td>\n",
       "      <td>672.412257</td>\n",
       "      <td>958.566812</td>\n",
       "      <td>927.825343</td>\n",
       "      <td>966.896815</td>\n",
       "      <td>1132.055034</td>\n",
       "      <td>2814.480755</td>\n",
       "      <td>7703.495900</td>\n",
       "      <td>12154.089750</td>\n",
       "    </tr>\n",
       "    <tr>\n",
       "      <th>16</th>\n",
       "      <td>Eritrea</td>\n",
       "      <td>328.940557</td>\n",
       "      <td>344.161886</td>\n",
       "      <td>380.995843</td>\n",
       "      <td>468.794970</td>\n",
       "      <td>514.324208</td>\n",
       "      <td>505.753808</td>\n",
       "      <td>524.875849</td>\n",
       "      <td>521.134133</td>\n",
       "      <td>582.858510</td>\n",
       "      <td>913.470790</td>\n",
       "      <td>765.350001</td>\n",
       "      <td>641.369524</td>\n",
       "    </tr>\n",
       "    <tr>\n",
       "      <th>17</th>\n",
       "      <td>Ethiopia</td>\n",
       "      <td>362.146280</td>\n",
       "      <td>378.904163</td>\n",
       "      <td>419.456416</td>\n",
       "      <td>516.118644</td>\n",
       "      <td>566.243944</td>\n",
       "      <td>556.808383</td>\n",
       "      <td>577.860747</td>\n",
       "      <td>573.741314</td>\n",
       "      <td>421.353465</td>\n",
       "      <td>515.889401</td>\n",
       "      <td>530.053532</td>\n",
       "      <td>690.805576</td>\n",
       "    </tr>\n",
       "    <tr>\n",
       "      <th>18</th>\n",
       "      <td>Gabon</td>\n",
       "      <td>4293.476475</td>\n",
       "      <td>4976.198099</td>\n",
       "      <td>6631.459222</td>\n",
       "      <td>8358.761987</td>\n",
       "      <td>11401.948410</td>\n",
       "      <td>21745.573280</td>\n",
       "      <td>15113.361940</td>\n",
       "      <td>11864.408440</td>\n",
       "      <td>13522.157520</td>\n",
       "      <td>14722.841880</td>\n",
       "      <td>12521.713920</td>\n",
       "      <td>13206.484520</td>\n",
       "    </tr>\n",
       "    <tr>\n",
       "      <th>19</th>\n",
       "      <td>Gambia</td>\n",
       "      <td>485.230659</td>\n",
       "      <td>520.926711</td>\n",
       "      <td>599.650276</td>\n",
       "      <td>734.782912</td>\n",
       "      <td>756.086836</td>\n",
       "      <td>884.755251</td>\n",
       "      <td>835.809611</td>\n",
       "      <td>611.658861</td>\n",
       "      <td>665.624413</td>\n",
       "      <td>653.730170</td>\n",
       "      <td>660.585600</td>\n",
       "      <td>752.749726</td>\n",
       "    </tr>\n",
       "    <tr>\n",
       "      <th>20</th>\n",
       "      <td>Ghana</td>\n",
       "      <td>911.298937</td>\n",
       "      <td>1043.561537</td>\n",
       "      <td>1190.041118</td>\n",
       "      <td>1125.697160</td>\n",
       "      <td>1178.223708</td>\n",
       "      <td>993.223957</td>\n",
       "      <td>876.032569</td>\n",
       "      <td>847.006113</td>\n",
       "      <td>925.060154</td>\n",
       "      <td>1005.245812</td>\n",
       "      <td>1111.984578</td>\n",
       "      <td>1327.608910</td>\n",
       "    </tr>\n",
       "    <tr>\n",
       "      <th>21</th>\n",
       "      <td>Guinea</td>\n",
       "      <td>510.196492</td>\n",
       "      <td>576.267025</td>\n",
       "      <td>686.373674</td>\n",
       "      <td>708.759541</td>\n",
       "      <td>741.666231</td>\n",
       "      <td>874.685864</td>\n",
       "      <td>857.250358</td>\n",
       "      <td>805.572472</td>\n",
       "      <td>794.348438</td>\n",
       "      <td>869.449767</td>\n",
       "      <td>945.583584</td>\n",
       "      <td>942.654211</td>\n",
       "    </tr>\n",
       "    <tr>\n",
       "      <th>22</th>\n",
       "      <td>Guinea-Bissau</td>\n",
       "      <td>299.850319</td>\n",
       "      <td>431.790457</td>\n",
       "      <td>522.034373</td>\n",
       "      <td>715.580640</td>\n",
       "      <td>820.224588</td>\n",
       "      <td>764.725963</td>\n",
       "      <td>838.123967</td>\n",
       "      <td>736.415392</td>\n",
       "      <td>745.539871</td>\n",
       "      <td>796.664468</td>\n",
       "      <td>575.704718</td>\n",
       "      <td>579.231743</td>\n",
       "    </tr>\n",
       "    <tr>\n",
       "      <th>23</th>\n",
       "      <td>Kenya</td>\n",
       "      <td>853.540919</td>\n",
       "      <td>944.438315</td>\n",
       "      <td>896.966373</td>\n",
       "      <td>1056.736457</td>\n",
       "      <td>1222.359968</td>\n",
       "      <td>1267.613204</td>\n",
       "      <td>1348.225791</td>\n",
       "      <td>1361.936856</td>\n",
       "      <td>1341.921721</td>\n",
       "      <td>1360.485021</td>\n",
       "      <td>1287.514732</td>\n",
       "      <td>1463.249282</td>\n",
       "    </tr>\n",
       "    <tr>\n",
       "      <th>24</th>\n",
       "      <td>Lesotho</td>\n",
       "      <td>298.846212</td>\n",
       "      <td>335.997115</td>\n",
       "      <td>411.800627</td>\n",
       "      <td>498.639026</td>\n",
       "      <td>496.581592</td>\n",
       "      <td>745.369541</td>\n",
       "      <td>797.263107</td>\n",
       "      <td>773.993214</td>\n",
       "      <td>977.486273</td>\n",
       "      <td>1186.147994</td>\n",
       "      <td>1275.184575</td>\n",
       "      <td>1569.331442</td>\n",
       "    </tr>\n",
       "    <tr>\n",
       "      <th>25</th>\n",
       "      <td>Liberia</td>\n",
       "      <td>575.572996</td>\n",
       "      <td>620.969990</td>\n",
       "      <td>634.195163</td>\n",
       "      <td>713.603648</td>\n",
       "      <td>803.005454</td>\n",
       "      <td>640.322438</td>\n",
       "      <td>572.199569</td>\n",
       "      <td>506.113857</td>\n",
       "      <td>636.622919</td>\n",
       "      <td>609.173951</td>\n",
       "      <td>531.482368</td>\n",
       "      <td>414.507341</td>\n",
       "    </tr>\n",
       "    <tr>\n",
       "      <th>26</th>\n",
       "      <td>Libya</td>\n",
       "      <td>2387.548060</td>\n",
       "      <td>3448.284395</td>\n",
       "      <td>6757.030816</td>\n",
       "      <td>18772.751690</td>\n",
       "      <td>21011.497210</td>\n",
       "      <td>21951.211760</td>\n",
       "      <td>17364.275380</td>\n",
       "      <td>11770.589800</td>\n",
       "      <td>9640.138501</td>\n",
       "      <td>9467.446056</td>\n",
       "      <td>9534.677467</td>\n",
       "      <td>12057.499280</td>\n",
       "    </tr>\n",
       "    <tr>\n",
       "      <th>27</th>\n",
       "      <td>Madagascar</td>\n",
       "      <td>1443.011715</td>\n",
       "      <td>1589.202750</td>\n",
       "      <td>1643.387110</td>\n",
       "      <td>1634.047282</td>\n",
       "      <td>1748.562982</td>\n",
       "      <td>1544.228586</td>\n",
       "      <td>1302.878658</td>\n",
       "      <td>1155.441948</td>\n",
       "      <td>1040.676190</td>\n",
       "      <td>986.295896</td>\n",
       "      <td>894.637082</td>\n",
       "      <td>1044.770126</td>\n",
       "    </tr>\n",
       "    <tr>\n",
       "      <th>28</th>\n",
       "      <td>Malawi</td>\n",
       "      <td>369.165080</td>\n",
       "      <td>416.369806</td>\n",
       "      <td>427.901086</td>\n",
       "      <td>495.514781</td>\n",
       "      <td>584.621971</td>\n",
       "      <td>663.223677</td>\n",
       "      <td>632.803921</td>\n",
       "      <td>635.517363</td>\n",
       "      <td>563.200014</td>\n",
       "      <td>692.275810</td>\n",
       "      <td>665.423119</td>\n",
       "      <td>759.349910</td>\n",
       "    </tr>\n",
       "    <tr>\n",
       "      <th>29</th>\n",
       "      <td>Mali</td>\n",
       "      <td>452.336981</td>\n",
       "      <td>490.382187</td>\n",
       "      <td>496.174343</td>\n",
       "      <td>545.009887</td>\n",
       "      <td>581.368876</td>\n",
       "      <td>686.395269</td>\n",
       "      <td>618.014064</td>\n",
       "      <td>684.171558</td>\n",
       "      <td>739.014375</td>\n",
       "      <td>790.257985</td>\n",
       "      <td>951.409752</td>\n",
       "      <td>1042.581557</td>\n",
       "    </tr>\n",
       "    <tr>\n",
       "      <th>30</th>\n",
       "      <td>Mauritania</td>\n",
       "      <td>743.115910</td>\n",
       "      <td>846.120261</td>\n",
       "      <td>1055.896036</td>\n",
       "      <td>1421.145193</td>\n",
       "      <td>1586.851781</td>\n",
       "      <td>1497.492223</td>\n",
       "      <td>1481.150189</td>\n",
       "      <td>1421.603576</td>\n",
       "      <td>1361.369784</td>\n",
       "      <td>1483.136136</td>\n",
       "      <td>1579.019543</td>\n",
       "      <td>1803.151496</td>\n",
       "    </tr>\n",
       "    <tr>\n",
       "      <th>31</th>\n",
       "      <td>Mauritius</td>\n",
       "      <td>1967.955707</td>\n",
       "      <td>2034.037981</td>\n",
       "      <td>2529.067487</td>\n",
       "      <td>2475.387562</td>\n",
       "      <td>2575.484158</td>\n",
       "      <td>3710.982963</td>\n",
       "      <td>3688.037739</td>\n",
       "      <td>4783.586903</td>\n",
       "      <td>6058.253846</td>\n",
       "      <td>7425.705295</td>\n",
       "      <td>9021.815894</td>\n",
       "      <td>10956.991120</td>\n",
       "    </tr>\n",
       "    <tr>\n",
       "      <th>32</th>\n",
       "      <td>Morocco</td>\n",
       "      <td>1688.203570</td>\n",
       "      <td>1642.002314</td>\n",
       "      <td>1566.353493</td>\n",
       "      <td>1711.044770</td>\n",
       "      <td>1930.194975</td>\n",
       "      <td>2370.619976</td>\n",
       "      <td>2702.620356</td>\n",
       "      <td>2755.046991</td>\n",
       "      <td>2948.047252</td>\n",
       "      <td>2982.101858</td>\n",
       "      <td>3258.495584</td>\n",
       "      <td>3820.175230</td>\n",
       "    </tr>\n",
       "    <tr>\n",
       "      <th>33</th>\n",
       "      <td>Mozambique</td>\n",
       "      <td>468.526038</td>\n",
       "      <td>495.586833</td>\n",
       "      <td>556.686354</td>\n",
       "      <td>566.669154</td>\n",
       "      <td>724.917804</td>\n",
       "      <td>502.319733</td>\n",
       "      <td>462.211415</td>\n",
       "      <td>389.876185</td>\n",
       "      <td>410.896824</td>\n",
       "      <td>472.346077</td>\n",
       "      <td>633.617947</td>\n",
       "      <td>823.685621</td>\n",
       "    </tr>\n",
       "    <tr>\n",
       "      <th>34</th>\n",
       "      <td>Namibia</td>\n",
       "      <td>2423.780443</td>\n",
       "      <td>2621.448058</td>\n",
       "      <td>3173.215595</td>\n",
       "      <td>3793.694753</td>\n",
       "      <td>3746.080948</td>\n",
       "      <td>3876.485958</td>\n",
       "      <td>4191.100511</td>\n",
       "      <td>3693.731337</td>\n",
       "      <td>3804.537999</td>\n",
       "      <td>3899.524260</td>\n",
       "      <td>4072.324751</td>\n",
       "      <td>4811.060429</td>\n",
       "    </tr>\n",
       "    <tr>\n",
       "      <th>35</th>\n",
       "      <td>Niger</td>\n",
       "      <td>761.879376</td>\n",
       "      <td>835.523402</td>\n",
       "      <td>997.766113</td>\n",
       "      <td>1054.384891</td>\n",
       "      <td>954.209236</td>\n",
       "      <td>808.897073</td>\n",
       "      <td>909.722135</td>\n",
       "      <td>668.300023</td>\n",
       "      <td>581.182725</td>\n",
       "      <td>580.305209</td>\n",
       "      <td>601.074501</td>\n",
       "      <td>619.676892</td>\n",
       "    </tr>\n",
       "    <tr>\n",
       "      <th>36</th>\n",
       "      <td>Nigeria</td>\n",
       "      <td>1077.281856</td>\n",
       "      <td>1100.592563</td>\n",
       "      <td>1150.927478</td>\n",
       "      <td>1014.514104</td>\n",
       "      <td>1698.388838</td>\n",
       "      <td>1981.951806</td>\n",
       "      <td>1576.973750</td>\n",
       "      <td>1385.029563</td>\n",
       "      <td>1619.848217</td>\n",
       "      <td>1624.941275</td>\n",
       "      <td>1615.286395</td>\n",
       "      <td>2013.977305</td>\n",
       "    </tr>\n",
       "    <tr>\n",
       "      <th>37</th>\n",
       "      <td>Reunion</td>\n",
       "      <td>2718.885295</td>\n",
       "      <td>2769.451844</td>\n",
       "      <td>3173.723340</td>\n",
       "      <td>4021.175739</td>\n",
       "      <td>5047.658563</td>\n",
       "      <td>4319.804067</td>\n",
       "      <td>5267.219353</td>\n",
       "      <td>5303.377488</td>\n",
       "      <td>6101.255823</td>\n",
       "      <td>6071.941411</td>\n",
       "      <td>6316.165200</td>\n",
       "      <td>7670.122558</td>\n",
       "    </tr>\n",
       "    <tr>\n",
       "      <th>38</th>\n",
       "      <td>Rwanda</td>\n",
       "      <td>493.323875</td>\n",
       "      <td>540.289398</td>\n",
       "      <td>597.473073</td>\n",
       "      <td>510.963714</td>\n",
       "      <td>590.580664</td>\n",
       "      <td>670.080601</td>\n",
       "      <td>881.570647</td>\n",
       "      <td>847.991217</td>\n",
       "      <td>737.068595</td>\n",
       "      <td>589.944505</td>\n",
       "      <td>785.653765</td>\n",
       "      <td>863.088464</td>\n",
       "    </tr>\n",
       "    <tr>\n",
       "      <th>39</th>\n",
       "      <td>Sao Tome and Principe</td>\n",
       "      <td>879.583586</td>\n",
       "      <td>860.736903</td>\n",
       "      <td>1071.551119</td>\n",
       "      <td>1384.840593</td>\n",
       "      <td>1532.985254</td>\n",
       "      <td>1737.561657</td>\n",
       "      <td>1890.218117</td>\n",
       "      <td>1516.525457</td>\n",
       "      <td>1428.777814</td>\n",
       "      <td>1339.076036</td>\n",
       "      <td>1353.092390</td>\n",
       "      <td>1598.435089</td>\n",
       "    </tr>\n",
       "    <tr>\n",
       "      <th>40</th>\n",
       "      <td>Senegal</td>\n",
       "      <td>1450.356983</td>\n",
       "      <td>1567.653006</td>\n",
       "      <td>1654.988723</td>\n",
       "      <td>1612.404632</td>\n",
       "      <td>1597.712056</td>\n",
       "      <td>1561.769116</td>\n",
       "      <td>1518.479984</td>\n",
       "      <td>1441.720720</td>\n",
       "      <td>1367.899369</td>\n",
       "      <td>1392.368347</td>\n",
       "      <td>1519.635262</td>\n",
       "      <td>1712.472136</td>\n",
       "    </tr>\n",
       "    <tr>\n",
       "      <th>41</th>\n",
       "      <td>Sierra Leone</td>\n",
       "      <td>879.787736</td>\n",
       "      <td>1004.484437</td>\n",
       "      <td>1116.639877</td>\n",
       "      <td>1206.043465</td>\n",
       "      <td>1353.759762</td>\n",
       "      <td>1348.285159</td>\n",
       "      <td>1465.010784</td>\n",
       "      <td>1294.447788</td>\n",
       "      <td>1068.696278</td>\n",
       "      <td>574.648158</td>\n",
       "      <td>699.489713</td>\n",
       "      <td>862.540756</td>\n",
       "    </tr>\n",
       "    <tr>\n",
       "      <th>42</th>\n",
       "      <td>Somalia</td>\n",
       "      <td>1135.749842</td>\n",
       "      <td>1258.147413</td>\n",
       "      <td>1369.488336</td>\n",
       "      <td>1284.733180</td>\n",
       "      <td>1254.576127</td>\n",
       "      <td>1450.992513</td>\n",
       "      <td>1176.807031</td>\n",
       "      <td>1093.244963</td>\n",
       "      <td>926.960296</td>\n",
       "      <td>930.596428</td>\n",
       "      <td>882.081822</td>\n",
       "      <td>926.141068</td>\n",
       "    </tr>\n",
       "    <tr>\n",
       "      <th>43</th>\n",
       "      <td>South Africa</td>\n",
       "      <td>4725.295531</td>\n",
       "      <td>5487.104219</td>\n",
       "      <td>5768.729717</td>\n",
       "      <td>7114.477971</td>\n",
       "      <td>7765.962636</td>\n",
       "      <td>8028.651439</td>\n",
       "      <td>8568.266228</td>\n",
       "      <td>7825.823398</td>\n",
       "      <td>7225.069258</td>\n",
       "      <td>7479.188244</td>\n",
       "      <td>7710.946444</td>\n",
       "      <td>9269.657808</td>\n",
       "    </tr>\n",
       "    <tr>\n",
       "      <th>44</th>\n",
       "      <td>Sudan</td>\n",
       "      <td>1615.991129</td>\n",
       "      <td>1770.337074</td>\n",
       "      <td>1959.593767</td>\n",
       "      <td>1687.997641</td>\n",
       "      <td>1659.652775</td>\n",
       "      <td>2202.988423</td>\n",
       "      <td>1895.544073</td>\n",
       "      <td>1507.819159</td>\n",
       "      <td>1492.197043</td>\n",
       "      <td>1632.210764</td>\n",
       "      <td>1993.398314</td>\n",
       "      <td>2602.394995</td>\n",
       "    </tr>\n",
       "    <tr>\n",
       "      <th>45</th>\n",
       "      <td>Swaziland</td>\n",
       "      <td>1148.376626</td>\n",
       "      <td>1244.708364</td>\n",
       "      <td>1856.182125</td>\n",
       "      <td>2613.101665</td>\n",
       "      <td>3364.836625</td>\n",
       "      <td>3781.410618</td>\n",
       "      <td>3895.384018</td>\n",
       "      <td>3984.839812</td>\n",
       "      <td>3553.022400</td>\n",
       "      <td>3876.768460</td>\n",
       "      <td>4128.116943</td>\n",
       "      <td>4513.480643</td>\n",
       "    </tr>\n",
       "    <tr>\n",
       "      <th>46</th>\n",
       "      <td>Tanzania</td>\n",
       "      <td>716.650072</td>\n",
       "      <td>698.535607</td>\n",
       "      <td>722.003807</td>\n",
       "      <td>848.218657</td>\n",
       "      <td>915.985059</td>\n",
       "      <td>962.492293</td>\n",
       "      <td>874.242607</td>\n",
       "      <td>831.822079</td>\n",
       "      <td>825.682454</td>\n",
       "      <td>789.186223</td>\n",
       "      <td>899.074211</td>\n",
       "      <td>1107.482182</td>\n",
       "    </tr>\n",
       "    <tr>\n",
       "      <th>47</th>\n",
       "      <td>Togo</td>\n",
       "      <td>859.808657</td>\n",
       "      <td>925.908320</td>\n",
       "      <td>1067.534810</td>\n",
       "      <td>1477.596760</td>\n",
       "      <td>1649.660188</td>\n",
       "      <td>1532.776998</td>\n",
       "      <td>1344.577953</td>\n",
       "      <td>1202.201361</td>\n",
       "      <td>1034.298904</td>\n",
       "      <td>982.286924</td>\n",
       "      <td>886.220576</td>\n",
       "      <td>882.969944</td>\n",
       "    </tr>\n",
       "    <tr>\n",
       "      <th>48</th>\n",
       "      <td>Tunisia</td>\n",
       "      <td>1468.475631</td>\n",
       "      <td>1395.232468</td>\n",
       "      <td>1660.303210</td>\n",
       "      <td>1932.360167</td>\n",
       "      <td>2753.285994</td>\n",
       "      <td>3120.876811</td>\n",
       "      <td>3560.233174</td>\n",
       "      <td>3810.419296</td>\n",
       "      <td>4332.720164</td>\n",
       "      <td>4876.798614</td>\n",
       "      <td>5722.895655</td>\n",
       "      <td>7092.923025</td>\n",
       "    </tr>\n",
       "    <tr>\n",
       "      <th>49</th>\n",
       "      <td>Uganda</td>\n",
       "      <td>734.753484</td>\n",
       "      <td>774.371069</td>\n",
       "      <td>767.271740</td>\n",
       "      <td>908.918522</td>\n",
       "      <td>950.735869</td>\n",
       "      <td>843.733137</td>\n",
       "      <td>682.266227</td>\n",
       "      <td>617.724406</td>\n",
       "      <td>644.170797</td>\n",
       "      <td>816.559081</td>\n",
       "      <td>927.721002</td>\n",
       "      <td>1056.380121</td>\n",
       "    </tr>\n",
       "    <tr>\n",
       "      <th>50</th>\n",
       "      <td>Zambia</td>\n",
       "      <td>1147.388831</td>\n",
       "      <td>1311.956766</td>\n",
       "      <td>1452.725766</td>\n",
       "      <td>1777.077318</td>\n",
       "      <td>1773.498265</td>\n",
       "      <td>1588.688299</td>\n",
       "      <td>1408.678565</td>\n",
       "      <td>1213.315116</td>\n",
       "      <td>1210.884633</td>\n",
       "      <td>1071.353818</td>\n",
       "      <td>1071.613938</td>\n",
       "      <td>1271.211593</td>\n",
       "    </tr>\n",
       "    <tr>\n",
       "      <th>51</th>\n",
       "      <td>Zimbabwe</td>\n",
       "      <td>406.884115</td>\n",
       "      <td>518.764268</td>\n",
       "      <td>527.272182</td>\n",
       "      <td>569.795071</td>\n",
       "      <td>799.362176</td>\n",
       "      <td>685.587682</td>\n",
       "      <td>788.855041</td>\n",
       "      <td>706.157306</td>\n",
       "      <td>693.420786</td>\n",
       "      <td>792.449960</td>\n",
       "      <td>672.038623</td>\n",
       "      <td>469.709298</td>\n",
       "    </tr>\n",
       "  </tbody>\n",
       "</table>\n",
       "</div>"
      ],
      "text/plain": [
       "                     country  gdpPercap_1952  gdpPercap_1957  gdpPercap_1962  \\\n",
       "0                    Algeria     2449.008185     3013.976023     2550.816880   \n",
       "1                     Angola     3520.610273     3827.940465     4269.276742   \n",
       "2                      Benin     1062.752200      959.601080      949.499064   \n",
       "3                   Botswana      851.241141      918.232535      983.653976   \n",
       "4               Burkina Faso      543.255241      617.183465      722.512021   \n",
       "5                    Burundi      339.296459      379.564628      355.203227   \n",
       "6                   Cameroon     1172.667655     1313.048099     1399.607441   \n",
       "7   Central African Republic     1071.310713     1190.844328     1193.068753   \n",
       "8                       Chad     1178.665927     1308.495577     1389.817618   \n",
       "9                    Comoros     1102.990936     1211.148548     1406.648278   \n",
       "10           Congo Dem. Rep.      780.542326      905.860230      896.314634   \n",
       "11                Congo Rep.     2125.621418     2315.056572     2464.783157   \n",
       "12             Cote d'Ivoire     1388.594732     1500.895925     1728.869428   \n",
       "13                  Djibouti     2669.529475     2864.969076     3020.989263   \n",
       "14                     Egypt     1418.822445     1458.915272     1693.335853   \n",
       "15         Equatorial Guinea      375.643123      426.096408      582.841971   \n",
       "16                   Eritrea      328.940557      344.161886      380.995843   \n",
       "17                  Ethiopia      362.146280      378.904163      419.456416   \n",
       "18                     Gabon     4293.476475     4976.198099     6631.459222   \n",
       "19                    Gambia      485.230659      520.926711      599.650276   \n",
       "20                     Ghana      911.298937     1043.561537     1190.041118   \n",
       "21                    Guinea      510.196492      576.267025      686.373674   \n",
       "22             Guinea-Bissau      299.850319      431.790457      522.034373   \n",
       "23                     Kenya      853.540919      944.438315      896.966373   \n",
       "24                   Lesotho      298.846212      335.997115      411.800627   \n",
       "25                   Liberia      575.572996      620.969990      634.195163   \n",
       "26                     Libya     2387.548060     3448.284395     6757.030816   \n",
       "27                Madagascar     1443.011715     1589.202750     1643.387110   \n",
       "28                    Malawi      369.165080      416.369806      427.901086   \n",
       "29                      Mali      452.336981      490.382187      496.174343   \n",
       "30                Mauritania      743.115910      846.120261     1055.896036   \n",
       "31                 Mauritius     1967.955707     2034.037981     2529.067487   \n",
       "32                   Morocco     1688.203570     1642.002314     1566.353493   \n",
       "33                Mozambique      468.526038      495.586833      556.686354   \n",
       "34                   Namibia     2423.780443     2621.448058     3173.215595   \n",
       "35                     Niger      761.879376      835.523402      997.766113   \n",
       "36                   Nigeria     1077.281856     1100.592563     1150.927478   \n",
       "37                   Reunion     2718.885295     2769.451844     3173.723340   \n",
       "38                    Rwanda      493.323875      540.289398      597.473073   \n",
       "39     Sao Tome and Principe      879.583586      860.736903     1071.551119   \n",
       "40                   Senegal     1450.356983     1567.653006     1654.988723   \n",
       "41              Sierra Leone      879.787736     1004.484437     1116.639877   \n",
       "42                   Somalia     1135.749842     1258.147413     1369.488336   \n",
       "43              South Africa     4725.295531     5487.104219     5768.729717   \n",
       "44                     Sudan     1615.991129     1770.337074     1959.593767   \n",
       "45                 Swaziland     1148.376626     1244.708364     1856.182125   \n",
       "46                  Tanzania      716.650072      698.535607      722.003807   \n",
       "47                      Togo      859.808657      925.908320     1067.534810   \n",
       "48                   Tunisia     1468.475631     1395.232468     1660.303210   \n",
       "49                    Uganda      734.753484      774.371069      767.271740   \n",
       "50                    Zambia     1147.388831     1311.956766     1452.725766   \n",
       "51                  Zimbabwe      406.884115      518.764268      527.272182   \n",
       "\n",
       "    gdpPercap_1967  gdpPercap_1972  gdpPercap_1977  gdpPercap_1982  \\\n",
       "0      3246.991771     4182.663766     4910.416756     5745.160213   \n",
       "1      5522.776375     5473.288005     3008.647355     2756.953672   \n",
       "2      1035.831411     1085.796879     1029.161251     1277.897616   \n",
       "3      1214.709294     2263.611114     3214.857818     4551.142150   \n",
       "4       794.826560      854.735976      743.387037      807.198586   \n",
       "5       412.977514      464.099504      556.103265      559.603231   \n",
       "6      1508.453148     1684.146528     1783.432873     2367.983282   \n",
       "7      1136.056615     1070.013275     1109.374338      956.752991   \n",
       "8      1196.810565     1104.103987     1133.984950      797.908101   \n",
       "9      1876.029643     1937.577675     1172.603047     1267.100083   \n",
       "10      861.593242      904.896068      795.757282      673.747818   \n",
       "11     2677.939642     3213.152683     3259.178978     4879.507522   \n",
       "12     2052.050473     2378.201111     2517.736547     2602.710169   \n",
       "13     3020.050513     3694.212352     3081.761022     2879.468067   \n",
       "14     1814.880728     2024.008147     2785.493582     3503.729636   \n",
       "15      915.596003      672.412257      958.566812      927.825343   \n",
       "16      468.794970      514.324208      505.753808      524.875849   \n",
       "17      516.118644      566.243944      556.808383      577.860747   \n",
       "18     8358.761987    11401.948410    21745.573280    15113.361940   \n",
       "19      734.782912      756.086836      884.755251      835.809611   \n",
       "20     1125.697160     1178.223708      993.223957      876.032569   \n",
       "21      708.759541      741.666231      874.685864      857.250358   \n",
       "22      715.580640      820.224588      764.725963      838.123967   \n",
       "23     1056.736457     1222.359968     1267.613204     1348.225791   \n",
       "24      498.639026      496.581592      745.369541      797.263107   \n",
       "25      713.603648      803.005454      640.322438      572.199569   \n",
       "26    18772.751690    21011.497210    21951.211760    17364.275380   \n",
       "27     1634.047282     1748.562982     1544.228586     1302.878658   \n",
       "28      495.514781      584.621971      663.223677      632.803921   \n",
       "29      545.009887      581.368876      686.395269      618.014064   \n",
       "30     1421.145193     1586.851781     1497.492223     1481.150189   \n",
       "31     2475.387562     2575.484158     3710.982963     3688.037739   \n",
       "32     1711.044770     1930.194975     2370.619976     2702.620356   \n",
       "33      566.669154      724.917804      502.319733      462.211415   \n",
       "34     3793.694753     3746.080948     3876.485958     4191.100511   \n",
       "35     1054.384891      954.209236      808.897073      909.722135   \n",
       "36     1014.514104     1698.388838     1981.951806     1576.973750   \n",
       "37     4021.175739     5047.658563     4319.804067     5267.219353   \n",
       "38      510.963714      590.580664      670.080601      881.570647   \n",
       "39     1384.840593     1532.985254     1737.561657     1890.218117   \n",
       "40     1612.404632     1597.712056     1561.769116     1518.479984   \n",
       "41     1206.043465     1353.759762     1348.285159     1465.010784   \n",
       "42     1284.733180     1254.576127     1450.992513     1176.807031   \n",
       "43     7114.477971     7765.962636     8028.651439     8568.266228   \n",
       "44     1687.997641     1659.652775     2202.988423     1895.544073   \n",
       "45     2613.101665     3364.836625     3781.410618     3895.384018   \n",
       "46      848.218657      915.985059      962.492293      874.242607   \n",
       "47     1477.596760     1649.660188     1532.776998     1344.577953   \n",
       "48     1932.360167     2753.285994     3120.876811     3560.233174   \n",
       "49      908.918522      950.735869      843.733137      682.266227   \n",
       "50     1777.077318     1773.498265     1588.688299     1408.678565   \n",
       "51      569.795071      799.362176      685.587682      788.855041   \n",
       "\n",
       "    gdpPercap_1987  gdpPercap_1992  gdpPercap_1997  gdpPercap_2002  \\\n",
       "0      5681.358539     5023.216647     4797.295051     5288.040382   \n",
       "1      2430.208311     2627.845685     2277.140884     2773.287312   \n",
       "2      1225.856010     1191.207681     1232.975292     1372.877931   \n",
       "3      6205.883850     7954.111645     8647.142313    11003.605080   \n",
       "4       912.063142      931.752773      946.294962     1037.645221   \n",
       "5       621.818819      631.699878      463.115148      446.403513   \n",
       "6      2602.664206     1793.163278     1694.337469     1934.011449   \n",
       "7       844.876350      747.905525      740.506332      738.690607   \n",
       "8       952.386129     1058.064300     1004.961353     1156.181860   \n",
       "9      1315.980812     1246.907370     1173.618235     1075.811558   \n",
       "10      672.774812      457.719181      312.188423      241.165876   \n",
       "11     4201.194937     4016.239529     3484.164376     3484.061970   \n",
       "12     2156.956069     1648.073791     1786.265407     1648.800823   \n",
       "13     2880.102568     2377.156192     1895.016984     1908.260867   \n",
       "14     3885.460710     3794.755195     4173.181797     4754.604414   \n",
       "15      966.896815     1132.055034     2814.480755     7703.495900   \n",
       "16      521.134133      582.858510      913.470790      765.350001   \n",
       "17      573.741314      421.353465      515.889401      530.053532   \n",
       "18    11864.408440    13522.157520    14722.841880    12521.713920   \n",
       "19      611.658861      665.624413      653.730170      660.585600   \n",
       "20      847.006113      925.060154     1005.245812     1111.984578   \n",
       "21      805.572472      794.348438      869.449767      945.583584   \n",
       "22      736.415392      745.539871      796.664468      575.704718   \n",
       "23     1361.936856     1341.921721     1360.485021     1287.514732   \n",
       "24      773.993214      977.486273     1186.147994     1275.184575   \n",
       "25      506.113857      636.622919      609.173951      531.482368   \n",
       "26    11770.589800     9640.138501     9467.446056     9534.677467   \n",
       "27     1155.441948     1040.676190      986.295896      894.637082   \n",
       "28      635.517363      563.200014      692.275810      665.423119   \n",
       "29      684.171558      739.014375      790.257985      951.409752   \n",
       "30     1421.603576     1361.369784     1483.136136     1579.019543   \n",
       "31     4783.586903     6058.253846     7425.705295     9021.815894   \n",
       "32     2755.046991     2948.047252     2982.101858     3258.495584   \n",
       "33      389.876185      410.896824      472.346077      633.617947   \n",
       "34     3693.731337     3804.537999     3899.524260     4072.324751   \n",
       "35      668.300023      581.182725      580.305209      601.074501   \n",
       "36     1385.029563     1619.848217     1624.941275     1615.286395   \n",
       "37     5303.377488     6101.255823     6071.941411     6316.165200   \n",
       "38      847.991217      737.068595      589.944505      785.653765   \n",
       "39     1516.525457     1428.777814     1339.076036     1353.092390   \n",
       "40     1441.720720     1367.899369     1392.368347     1519.635262   \n",
       "41     1294.447788     1068.696278      574.648158      699.489713   \n",
       "42     1093.244963      926.960296      930.596428      882.081822   \n",
       "43     7825.823398     7225.069258     7479.188244     7710.946444   \n",
       "44     1507.819159     1492.197043     1632.210764     1993.398314   \n",
       "45     3984.839812     3553.022400     3876.768460     4128.116943   \n",
       "46      831.822079      825.682454      789.186223      899.074211   \n",
       "47     1202.201361     1034.298904      982.286924      886.220576   \n",
       "48     3810.419296     4332.720164     4876.798614     5722.895655   \n",
       "49      617.724406      644.170797      816.559081      927.721002   \n",
       "50     1213.315116     1210.884633     1071.353818     1071.613938   \n",
       "51      706.157306      693.420786      792.449960      672.038623   \n",
       "\n",
       "    gdpPercap_2007  \n",
       "0      6223.367465  \n",
       "1      4797.231267  \n",
       "2      1441.284873  \n",
       "3     12569.851770  \n",
       "4      1217.032994  \n",
       "5       430.070692  \n",
       "6      2042.095240  \n",
       "7       706.016537  \n",
       "8      1704.063724  \n",
       "9       986.147879  \n",
       "10      277.551859  \n",
       "11     3632.557798  \n",
       "12     1544.750112  \n",
       "13     2082.481567  \n",
       "14     5581.180998  \n",
       "15    12154.089750  \n",
       "16      641.369524  \n",
       "17      690.805576  \n",
       "18    13206.484520  \n",
       "19      752.749726  \n",
       "20     1327.608910  \n",
       "21      942.654211  \n",
       "22      579.231743  \n",
       "23     1463.249282  \n",
       "24     1569.331442  \n",
       "25      414.507341  \n",
       "26    12057.499280  \n",
       "27     1044.770126  \n",
       "28      759.349910  \n",
       "29     1042.581557  \n",
       "30     1803.151496  \n",
       "31    10956.991120  \n",
       "32     3820.175230  \n",
       "33      823.685621  \n",
       "34     4811.060429  \n",
       "35      619.676892  \n",
       "36     2013.977305  \n",
       "37     7670.122558  \n",
       "38      863.088464  \n",
       "39     1598.435089  \n",
       "40     1712.472136  \n",
       "41      862.540756  \n",
       "42      926.141068  \n",
       "43     9269.657808  \n",
       "44     2602.394995  \n",
       "45     4513.480643  \n",
       "46     1107.482182  \n",
       "47      882.969944  \n",
       "48     7092.923025  \n",
       "49     1056.380121  \n",
       "50     1271.211593  \n",
       "51      469.709298  "
      ]
     },
     "execution_count": 62,
     "metadata": {},
     "output_type": "execute_result"
    }
   ],
   "source": [
    "data_africa"
   ]
  },
  {
   "cell_type": "code",
   "execution_count": 63,
   "id": "d61a786f-647f-4ee4-bcaf-cd04babcf73a",
   "metadata": {},
   "outputs": [],
   "source": [
    "import matplotlib.pyplot as plt"
   ]
  },
  {
   "cell_type": "code",
   "execution_count": 64,
   "id": "8fcaf3a5-25ac-49c2-b49d-37eb561faf04",
   "metadata": {},
   "outputs": [
    {
     "data": {
      "image/png": "[encoded data removed]",
      "text/plain": [
       "<Figure size 432x288 with 1 Axes>"
      ]
     },
     "metadata": {
      "needs_background": "light"
     },
     "output_type": "display_data"
    }
   ],
   "source": [
    "time = [0,1,2,3]\n",
    "position = [0,100,250,280]\n",
    "\n",
    "plt.plot(time,position)\n",
    "plt.xlabel('Time (hr)')\n",
    "plt.ylabel('Position (km)')\n",
    "plt.savefig('my_figure.png')"
   ]
  },
  {
   "cell_type": "code",
   "execution_count": 65,
   "id": "01acdc9f-16a1-4706-96c5-bf0a87df9895",
   "metadata": {},
   "outputs": [
    {
     "data": {
      "text/plain": [
       "'/Users/alexk'"
      ]
     },
     "execution_count": 65,
     "metadata": {},
     "output_type": "execute_result"
    }
   ],
   "source": [
    "%pwd"
   ]
  },
  {
   "cell_type": "code",
   "execution_count": 66,
   "id": "5ac08281-f67d-4b49-8a77-c8bb50e094f5",
   "metadata": {},
   "outputs": [
    {
     "data": {
      "text/plain": [
       "'/Users/alexk'"
      ]
     },
     "execution_count": 66,
     "metadata": {},
     "output_type": "execute_result"
    }
   ],
   "source": [
    "pwd()"
   ]
  },
  {
   "cell_type": "code",
   "execution_count": 67,
   "id": "38287be3-c2c6-4a23-8d5d-d4e1d23cca0b",
   "metadata": {},
   "outputs": [
    {
     "data": {
      "text/plain": [
       "\u001b[0;31mDocstring:\u001b[0m\n",
       "Return the current working directory path.\n",
       "\n",
       "Examples\n",
       "--------\n",
       "::\n",
       "\n",
       "  In [9]: pwd\n",
       "  Out[9]: '/home/tsuser/sprint/ipython'\n",
       "\u001b[0;31mFile:\u001b[0m      ~/Library/Python/3.9/lib/python/site-packages/IPython/core/magics/osm.py\n"
      ]
     },
     "metadata": {},
     "output_type": "display_data"
    }
   ],
   "source": [
    "pwd?"
   ]
  },
  {
   "cell_type": "code",
   "execution_count": 68,
   "id": "8d98f500-f4ab-4ccb-a88e-a8deb48fe5d3",
   "metadata": {},
   "outputs": [],
   "source": [
    "data = pd.read_csv('~/Desktop/data/gapminder_gdp_oceania.csv', index_col='country')\n",
    "years = data.columns.str.strip('gdpPercap_')"
   ]
  },
  {
   "cell_type": "code",
   "execution_count": 69,
   "id": "7e03acdc-96e1-4e27-80c8-a09d0f3ff03b",
   "metadata": {},
   "outputs": [
    {
     "data": {
      "text/plain": [
       "<AxesSubplot: >"
      ]
     },
     "execution_count": 69,
     "metadata": {},
     "output_type": "execute_result"
    },
    {
     "data": {
      "image/png": "[encoded data removed]",
      "text/plain": [
       "<Figure size 432x288 with 1 Axes>"
      ]
     },
     "metadata": {
      "needs_background": "light"
     },
     "output_type": "display_data"
    }
   ],
   "source": [
    "data.columns = years.astype(int)\n",
    "\n",
    "data.loc['Australia'].plot()"
   ]
  }
 ],
 "metadata": {
  "kernelspec": {
   "display_name": "Python 3",
   "language": "python",
   "name": "python3"
  },
  "language_info": {
   "codemirror_mode": {
    "name": "ipython",
    "version": 3
   },
   "file_extension": ".py",
   "mimetype": "text/x-python",
   "name": "python",
   "nbconvert_exporter": "python",
   "pygments_lexer": "ipython3",
   "version": "3.9.1"
  }
 },
 "nbformat": 4,
 "nbformat_minor": 5
}
